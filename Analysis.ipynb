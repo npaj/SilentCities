{
 "cells": [
  {
   "cell_type": "markdown",
   "metadata": {},
   "source": [
    "Silent Cities Dataset - Audio Tagging Demonstration\n",
    "--"
   ]
  },
  {
   "cell_type": "markdown",
   "metadata": {},
   "source": [
    "This notebook reads the output pandas pickled data from a folder processed using the \"tag_silentcity.py\" and plots a heat map of detected categories."
   ]
  },
  {
   "cell_type": "code",
   "execution_count": 1,
   "metadata": {},
   "outputs": [],
   "source": [
    "import pandas as pd\n",
    "import numpy as np\n",
    "from audioset_tagging_cnn.config import labels\n",
    "import datetime\n",
    "from matplotlib import pyplot as plt "
   ]
  },
  {
   "cell_type": "markdown",
   "metadata": {},
   "source": [
    "Read dataframe"
   ]
  },
  {
   "cell_type": "code",
   "execution_count": 2,
   "metadata": {},
   "outputs": [],
   "source": [
    "Df = pd.read_pickle('audiomoth.xz')"
   ]
  },
  {
   "cell_type": "markdown",
   "metadata": {},
   "source": [
    "Gather the probas and find the categories for which the maximum through the night is more than a certain proba threshold"
   ]
  },
  {
   "cell_type": "code",
   "execution_count": 3,
   "metadata": {},
   "outputs": [],
   "source": [
    "allprobas = np.stack(Df['probas'])"
   ]
  },
  {
   "cell_type": "code",
   "execution_count": 4,
   "metadata": {},
   "outputs": [],
   "source": [
    "def keep_array_thresh(probasarray,threshold=0.1):\n",
    "    array_max = np.max(probasarray,axis=0)\n",
    "    ind_max = np.argwhere(array_max>threshold)\n",
    "\n",
    "    return ind_max"
   ]
  },
  {
   "cell_type": "code",
   "execution_count": 5,
   "metadata": {},
   "outputs": [],
   "source": [
    "ind_labels =keep_array_thresh(allprobas,threshold = 0.1)\n",
    "kept_labels = [labels[int(i)] for i in ind_labels]"
   ]
  },
  {
   "cell_type": "markdown",
   "metadata": {},
   "source": [
    "Theses are the labels that have a probability of more than 10% at least once in all the recordings"
   ]
  },
  {
   "cell_type": "code",
   "execution_count": 6,
   "metadata": {},
   "outputs": [
    {
     "data": {
      "text/plain": [
       "['Speech',\n",
       " 'Animal',\n",
       " 'Domestic animals, pets',\n",
       " 'Dog',\n",
       " 'Cat',\n",
       " 'Meow',\n",
       " 'Fowl',\n",
       " 'Bird',\n",
       " 'Bird vocalization, bird call, bird song',\n",
       " 'Chirp, tweet',\n",
       " 'Insect',\n",
       " 'Music',\n",
       " 'Gong',\n",
       " 'Wind',\n",
       " 'Wind noise (microphone)',\n",
       " 'Thunderstorm',\n",
       " 'Thunder',\n",
       " 'Rain',\n",
       " 'Ocean',\n",
       " 'Waves, surf',\n",
       " 'Vehicle',\n",
       " 'Boat, Water vehicle',\n",
       " 'Car',\n",
       " 'Traffic noise, roadway noise',\n",
       " 'Rail transport',\n",
       " 'Train',\n",
       " 'Railroad car, train wagon',\n",
       " 'Aircraft',\n",
       " 'Fixed-wing aircraft, airplane',\n",
       " 'Environmental noise',\n",
       " 'Pink noise',\n",
       " 'Field recording']"
      ]
     },
     "execution_count": 6,
     "metadata": {},
     "output_type": "execute_result"
    }
   ],
   "source": [
    "kept_labels"
   ]
  },
  {
   "cell_type": "markdown",
   "metadata": {},
   "source": [
    "Now manually filter this list to visualize only a few of them "
   ]
  },
  {
   "cell_type": "code",
   "execution_count": 7,
   "metadata": {},
   "outputs": [
    {
     "name": "stdout",
     "output_type": "stream",
     "text": [
      "['Speech', 'Dog', 'Cat', 'Bird', 'Music', 'Wind', 'Vehicle']\n"
     ]
    }
   ],
   "source": [
    "subset = [0,3,4,7,11,13,20]\n",
    "print([kept_labels[categ] for categ in subset])"
   ]
  },
  {
   "cell_type": "code",
   "execution_count": 8,
   "metadata": {},
   "outputs": [],
   "source": [
    "ind_labels_final = [ind_labels[categ] for categ in subset]\n",
    "kept_labels_final = [kept_labels[categ] for categ in subset]"
   ]
  },
  {
   "cell_type": "code",
   "execution_count": 9,
   "metadata": {},
   "outputs": [],
   "source": [
    "allprobas_kept = allprobas[:,ind_labels_final].squeeze()"
   ]
  },
  {
   "cell_type": "markdown",
   "metadata": {},
   "source": [
    "Finally prepare a simple visualisation."
   ]
  },
  {
   "cell_type": "code",
   "execution_count": 10,
   "metadata": {},
   "outputs": [
    {
     "data": {
      "text/plain": [
       "<Figure size 1440x720 with 0 Axes>"
      ]
     },
     "metadata": {},
     "output_type": "display_data"
    },
    {
     "data": {
      "image/png": "[encoded data removed]",
      "text/plain": [
       "<Figure size 1152x144 with 2 Axes>"
      ]
     },
     "metadata": {
      "needs_background": "light"
     },
     "output_type": "display_data"
    }
   ],
   "source": [
    "skiptime = 12 ### this is necessary to annotate the x axis, change this value to print more or less date / time labels\n",
    "\n",
    "timelabels = [''] * len(Df.datetime)\n",
    "\n",
    "origtimes = list(Df.datetime)\n",
    "\n",
    "for i in np.arange(0,len(origtimes),skiptime):\n",
    "    timelabels[i] = origtimes[i]\n",
    "    \n",
    "\n",
    "plt.figure(figsize=(20,10))\n",
    "plt.matshow(allprobas_kept.T,vmin=0,aspect='auto',cmap=plt.cm.Reds)\n",
    "plt.yticks(ticks = range(len(kept_labels_final)),labels=kept_labels_final)\n",
    "plt.xticks(ticks = range(len(timelabels)),labels = timelabels,rotation=90)\n",
    "plt.colorbar()\n",
    "plt.savefig('silentcity.png',dpi=300,bbox_inches='tight')"
   ]
  }
 ],
 "metadata": {
  "file_extension": ".py",
  "kernelspec": {
   "display_name": "Python 3.6.9 64-bit ('base': conda)",
   "language": "python",
   "name": "python36964bitbaseconda6c8d87063a18461ca77c51084a3826c5"
  },
  "language_info": {
   "codemirror_mode": {
    "name": "ipython",
    "version": 3
   },
   "file_extension": ".py",
   "mimetype": "text/x-python",
   "name": "python",
   "nbconvert_exporter": "python",
   "pygments_lexer": "ipython3",
   "version": "3.7.6"
  },
  "mimetype": "text/x-python",
  "name": "python",
  "npconvert_exporter": "python",
  "pygments_lexer": "ipython3",
  "version": 3
 },
 "nbformat": 4,
 "nbformat_minor": 2
}
